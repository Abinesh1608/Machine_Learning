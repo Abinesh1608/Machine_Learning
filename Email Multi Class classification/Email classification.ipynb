{
 "cells": [
  {
   "cell_type": "code",
   "execution_count": 3,
   "id": "29f8309d",
   "metadata": {},
   "outputs": [],
   "source": [
    "import pandas as pd\n",
    "import numpy as np\n",
    "import matplotlib.pyplot as plt\n",
    "import seaborn as sns\n",
    "import re \n",
    "import string\n",
    "import nltk\n"
   ]
  },
  {
   "cell_type": "markdown",
   "id": "f0d3654f",
   "metadata": {},
   "source": [
    "# DATA"
   ]
  },
  {
   "cell_type": "code",
   "execution_count": 4,
   "id": "ffb80b4d",
   "metadata": {},
   "outputs": [
    {
     "data": {
      "text/html": [
       "<div>\n",
       "<style scoped>\n",
       "    .dataframe tbody tr th:only-of-type {\n",
       "        vertical-align: middle;\n",
       "    }\n",
       "\n",
       "    .dataframe tbody tr th {\n",
       "        vertical-align: top;\n",
       "    }\n",
       "\n",
       "    .dataframe thead th {\n",
       "        text-align: right;\n",
       "    }\n",
       "</style>\n",
       "<table border=\"1\" class=\"dataframe\">\n",
       "  <thead>\n",
       "    <tr style=\"text-align: right;\">\n",
       "      <th></th>\n",
       "      <th>CATEGORY</th>\n",
       "      <th>MESSAGE</th>\n",
       "      <th>FILE_NAME</th>\n",
       "    </tr>\n",
       "  </thead>\n",
       "  <tbody>\n",
       "    <tr>\n",
       "      <th>0</th>\n",
       "      <td>1</td>\n",
       "      <td>Dear Homeowner,\\n\\n \\n\\nInterest Rates are at ...</td>\n",
       "      <td>00249.5f45607c1bffe89f60ba1ec9f878039a</td>\n",
       "    </tr>\n",
       "    <tr>\n",
       "      <th>1</th>\n",
       "      <td>1</td>\n",
       "      <td>ATTENTION: This is a MUST for ALL Computer Use...</td>\n",
       "      <td>00373.ebe8670ac56b04125c25100a36ab0510</td>\n",
       "    </tr>\n",
       "    <tr>\n",
       "      <th>2</th>\n",
       "      <td>1</td>\n",
       "      <td>This is a multi-part message in MIME format.\\n...</td>\n",
       "      <td>00214.1367039e50dc6b7adb0f2aa8aba83216</td>\n",
       "    </tr>\n",
       "    <tr>\n",
       "      <th>3</th>\n",
       "      <td>1</td>\n",
       "      <td>IMPORTANT INFORMATION:\\n\\n\\n\\nThe new domain n...</td>\n",
       "      <td>00210.050ffd105bd4e006771ee63cabc59978</td>\n",
       "    </tr>\n",
       "    <tr>\n",
       "      <th>4</th>\n",
       "      <td>1</td>\n",
       "      <td>This is the bottom line.  If you can GIVE AWAY...</td>\n",
       "      <td>00033.9babb58d9298daa2963d4f514193d7d6</td>\n",
       "    </tr>\n",
       "  </tbody>\n",
       "</table>\n",
       "</div>"
      ],
      "text/plain": [
       "   CATEGORY                                            MESSAGE  \\\n",
       "0         1  Dear Homeowner,\\n\\n \\n\\nInterest Rates are at ...   \n",
       "1         1  ATTENTION: This is a MUST for ALL Computer Use...   \n",
       "2         1  This is a multi-part message in MIME format.\\n...   \n",
       "3         1  IMPORTANT INFORMATION:\\n\\n\\n\\nThe new domain n...   \n",
       "4         1  This is the bottom line.  If you can GIVE AWAY...   \n",
       "\n",
       "                                FILE_NAME  \n",
       "0  00249.5f45607c1bffe89f60ba1ec9f878039a  \n",
       "1  00373.ebe8670ac56b04125c25100a36ab0510  \n",
       "2  00214.1367039e50dc6b7adb0f2aa8aba83216  \n",
       "3  00210.050ffd105bd4e006771ee63cabc59978  \n",
       "4  00033.9babb58d9298daa2963d4f514193d7d6  "
      ]
     },
     "execution_count": 4,
     "metadata": {},
     "output_type": "execute_result"
    }
   ],
   "source": [
    "data = pd.read_csv(\"Data/Data.csv\")\n",
    "data.head()"
   ]
  },
  {
   "cell_type": "code",
   "execution_count": null,
   "id": "40cdf605",
   "metadata": {},
   "outputs": [],
   "source": []
  },
  {
   "cell_type": "code",
   "execution_count": 5,
   "id": "dbffba3a",
   "metadata": {},
   "outputs": [
    {
     "name": "stdout",
     "output_type": "stream",
     "text": [
      "<class 'pandas.core.frame.DataFrame'>\n",
      "RangeIndex: 5796 entries, 0 to 5795\n",
      "Data columns (total 3 columns):\n",
      " #   Column     Non-Null Count  Dtype \n",
      "---  ------     --------------  ----- \n",
      " 0   CATEGORY   5796 non-null   int64 \n",
      " 1   MESSAGE    5796 non-null   object\n",
      " 2   FILE_NAME  5796 non-null   object\n",
      "dtypes: int64(1), object(2)\n",
      "memory usage: 136.0+ KB\n"
     ]
    }
   ],
   "source": [
    "data.info()\n"
   ]
  },
  {
   "cell_type": "markdown",
   "id": "8d616622",
   "metadata": {},
   "source": [
    "# preprocessing DATA"
   ]
  },
  {
   "cell_type": "code",
   "execution_count": 6,
   "id": "ed2fcfb5",
   "metadata": {},
   "outputs": [],
   "source": [
    "from sklearn.model_selection import train_test_split\n",
    "\n",
    "import tensorflow as tf"
   ]
  },
  {
   "cell_type": "code",
   "execution_count": 7,
   "id": "5123793d",
   "metadata": {},
   "outputs": [],
   "source": [
    "def get_sequences(texts, tokenizer, train=True, max_seq_length=None):\n",
    "    sequences = tokenizer.texts_to_sequences(texts)\n",
    "    \n",
    "    if train == True:\n",
    "        max_seq_length = np.max(list(map(lambda x: len(x), sequences)))\n",
    "    \n",
    "    sequences = tf.keras.preprocessing.sequence.pad_sequences(sequences, maxlen=max_seq_length, padding='post')\n",
    "    \n",
    "    return sequences"
   ]
  },
  {
   "cell_type": "code",
   "execution_count": 8,
   "id": "763efbda",
   "metadata": {},
   "outputs": [],
   "source": [
    "def preprocess_inputs(df):\n",
    "    df = df.copy()\n",
    "    \n",
    "    # Drop FILE_NAME column\n",
    "    df = df.drop('FILE_NAME', axis=1)\n",
    "    \n",
    "    # Split df into X and y\n",
    "    y = df['CATEGORY']\n",
    "    X = df['MESSAGE']\n",
    "    \n",
    "    # Train-test split\n",
    "    X_train, X_test, y_train, y_test = train_test_split(X, y, train_size=0.7, shuffle=True, random_state=1)\n",
    "    \n",
    "    # Create tokenizer\n",
    "    tokenizer = tf.keras.preprocessing.text.Tokenizer(num_words=30000)\n",
    "    \n",
    "    # Fit the tokenizer\n",
    "    tokenizer.fit_on_texts(X_train)\n",
    "    \n",
    "    # Convert texts to sequences\n",
    "    X_train = get_sequences(X_train, tokenizer, train=True)\n",
    "    X_test = get_sequences(X_test, tokenizer, train=False, max_seq_length=X_train.shape[1])\n",
    "    \n",
    "    return X_train, X_test, y_train, y_test\n"
   ]
  },
  {
   "cell_type": "code",
   "execution_count": 9,
   "id": "51902e08",
   "metadata": {},
   "outputs": [],
   "source": [
    "X_train, X_test, y_train, y_test = preprocess_inputs(data)"
   ]
  },
  {
   "cell_type": "code",
   "execution_count": 10,
   "id": "f85020c9",
   "metadata": {},
   "outputs": [
    {
     "data": {
      "text/plain": [
       "0    2738\n",
       "1    1319\n",
       "Name: CATEGORY, dtype: int64"
      ]
     },
     "execution_count": 10,
     "metadata": {},
     "output_type": "execute_result"
    }
   ],
   "source": [
    "y_train.value_counts()"
   ]
  },
  {
   "cell_type": "markdown",
   "id": "543e54f5",
   "metadata": {},
   "source": [
    "# Keras neural network"
   ]
  },
  {
   "cell_type": "code",
   "execution_count": 11,
   "id": "7113d005",
   "metadata": {},
   "outputs": [
    {
     "name": "stdout",
     "output_type": "stream",
     "text": [
      "Model: \"model\"\n",
      "_________________________________________________________________\n",
      " Layer (type)                Output Shape              Param #   \n",
      "=================================================================\n",
      " input_1 (InputLayer)        [(None, 14804)]           0         \n",
      "                                                                 \n",
      " embedding (Embedding)       (None, 14804, 64)         1920000   \n",
      "                                                                 \n",
      " flatten (Flatten)           (None, 947456)            0         \n",
      "                                                                 \n",
      " dense (Dense)               (None, 1)                 947457    \n",
      "                                                                 \n",
      "=================================================================\n",
      "Total params: 2,867,457\n",
      "Trainable params: 2,867,457\n",
      "Non-trainable params: 0\n",
      "_________________________________________________________________\n",
      "None\n"
     ]
    }
   ],
   "source": [
    "inputs = tf.keras.Input(shape=(14804,))\n",
    "\n",
    "embedding = tf.keras.layers.Embedding(\n",
    "    input_dim=30000,\n",
    "    output_dim=64\n",
    ")(inputs)\n",
    "\n",
    "flatten = tf.keras.layers.Flatten()(embedding)\n",
    "\n",
    "outputs = tf.keras.layers.Dense(1, activation='sigmoid')(flatten)\n",
    "\n",
    "\n",
    "model = tf.keras.Model(inputs=inputs, outputs=outputs)\n",
    "\n",
    "\n",
    "model.compile(\n",
    "    optimizer='adam',\n",
    "    loss='binary_crossentropy',\n",
    "    metrics=[\n",
    "        'accuracy',\n",
    "        tf.keras.metrics.AUC(name='auc')\n",
    "    ]\n",
    ")\n",
    "\n",
    "\n",
    "print(model.summary())"
   ]
  },
  {
   "cell_type": "code",
   "execution_count": 12,
   "id": "7f4c12fa",
   "metadata": {},
   "outputs": [
    {
     "name": "stdout",
     "output_type": "stream",
     "text": [
      "Epoch 1/100\n",
      "102/102 [==============================] - 12s 114ms/step - loss: 0.7137 - accuracy: 0.8080 - auc: 0.8099 - val_loss: 0.1146 - val_accuracy: 0.9667 - val_auc: 0.9969\n",
      "Epoch 2/100\n",
      "102/102 [==============================] - 11s 109ms/step - loss: 0.0571 - accuracy: 0.9840 - auc: 0.9993 - val_loss: 0.0462 - val_accuracy: 0.9877 - val_auc: 0.9984\n",
      "Epoch 3/100\n",
      "102/102 [==============================] - 11s 111ms/step - loss: 0.0158 - accuracy: 0.9982 - auc: 1.0000 - val_loss: 0.0352 - val_accuracy: 0.9889 - val_auc: 0.9991\n",
      "Epoch 4/100\n",
      "102/102 [==============================] - 11s 110ms/step - loss: 0.0077 - accuracy: 0.9994 - auc: 1.0000 - val_loss: 0.0334 - val_accuracy: 0.9889 - val_auc: 0.9991\n",
      "Epoch 5/100\n",
      "102/102 [==============================] - 11s 110ms/step - loss: 0.0046 - accuracy: 0.9994 - auc: 1.0000 - val_loss: 0.0326 - val_accuracy: 0.9889 - val_auc: 0.9992\n",
      "Epoch 6/100\n",
      "102/102 [==============================] - 11s 110ms/step - loss: 0.0032 - accuracy: 0.9994 - auc: 1.0000 - val_loss: 0.0329 - val_accuracy: 0.9901 - val_auc: 0.9991\n",
      "Epoch 7/100\n",
      "102/102 [==============================] - 11s 113ms/step - loss: 0.0024 - accuracy: 0.9994 - auc: 1.0000 - val_loss: 0.0326 - val_accuracy: 0.9889 - val_auc: 0.9991\n",
      "Epoch 8/100\n",
      "102/102 [==============================] - 11s 111ms/step - loss: 0.0019 - accuracy: 0.9994 - auc: 1.0000 - val_loss: 0.0334 - val_accuracy: 0.9901 - val_auc: 0.9975\n",
      "Epoch 9/100\n",
      "102/102 [==============================] - 11s 113ms/step - loss: 0.0015 - accuracy: 0.9994 - auc: 1.0000 - val_loss: 0.0332 - val_accuracy: 0.9889 - val_auc: 0.9974\n",
      "Epoch 10/100\n",
      "102/102 [==============================] - 12s 120ms/step - loss: 0.0012 - accuracy: 1.0000 - auc: 1.0000 - val_loss: 0.0343 - val_accuracy: 0.9889 - val_auc: 0.9975\n"
     ]
    }
   ],
   "source": [
    "history = model.fit(\n",
    "    X_train,\n",
    "    y_train,\n",
    "    validation_split=0.2,\n",
    "    batch_size=32,\n",
    "    epochs=100,\n",
    "    callbacks=[\n",
    "        tf.keras.callbacks.EarlyStopping(\n",
    "            monitor='val_loss',\n",
    "            patience=3,\n",
    "            restore_best_weights=True\n",
    "        )\n",
    "    ]\n",
    ")"
   ]
  },
  {
   "cell_type": "code",
   "execution_count": 15,
   "id": "efd77979",
   "metadata": {},
   "outputs": [
    {
     "name": "stdout",
     "output_type": "stream",
     "text": [
      "    Test Loss: 0.0237\n",
      "Test Accuracy: 99.19%\n",
      "     Test AUC: 0.9989\n"
     ]
    }
   ],
   "source": [
    "results = model.evaluate(X_test, y_test, verbose=0)\n",
    "\n",
    "print(\"    Test Loss: {:.4f}\".format(results[0]))\n",
    "print(\"Test Accuracy: {:.2f}%\".format(results[1] * 100))\n",
    "print(\"     Test AUC: {:.4f}\".format(results[2]))"
   ]
  },
  {
   "cell_type": "markdown",
   "id": "af543cea",
   "metadata": {},
   "source": [
    "# Naive Bayes model"
   ]
  },
  {
   "cell_type": "code",
   "execution_count": 17,
   "id": "9ced78a8",
   "metadata": {},
   "outputs": [
    {
     "data": {
      "text/plain": [
       "GaussianNB()"
      ]
     },
     "execution_count": 17,
     "metadata": {},
     "output_type": "execute_result"
    }
   ],
   "source": [
    "#GaussianNB\n",
    "from sklearn.naive_bayes import GaussianNB\n",
    "GN_classifier = GaussianNB()\n",
    "GN_classifier.fit(X_train, y_train)"
   ]
  },
  {
   "cell_type": "code",
   "execution_count": 18,
   "id": "4bed0355",
   "metadata": {},
   "outputs": [
    {
     "data": {
      "text/plain": [
       "0.6923519263944796"
      ]
     },
     "execution_count": 18,
     "metadata": {},
     "output_type": "execute_result"
    }
   ],
   "source": [
    "GN_score = GN_classifier.score(X_test,y_test)\n",
    "GN_score"
   ]
  },
  {
   "cell_type": "code",
   "execution_count": 19,
   "id": "3a997b56",
   "metadata": {},
   "outputs": [],
   "source": [
    "y_GN_pred = GN_classifier.predict(X_test)"
   ]
  },
  {
   "cell_type": "code",
   "execution_count": 20,
   "id": "d9c9ee0f",
   "metadata": {},
   "outputs": [
    {
     "data": {
      "text/plain": [
       "array([0, 0, 0, ..., 0, 0, 0], dtype=int64)"
      ]
     },
     "execution_count": 20,
     "metadata": {},
     "output_type": "execute_result"
    }
   ],
   "source": [
    "y_GN_pred"
   ]
  },
  {
   "cell_type": "code",
   "execution_count": null,
   "id": "f02ac676",
   "metadata": {},
   "outputs": [],
   "source": []
  }
 ],
 "metadata": {
  "kernelspec": {
   "display_name": "Python 3",
   "language": "python",
   "name": "python3"
  },
  "language_info": {
   "codemirror_mode": {
    "name": "ipython",
    "version": 3
   },
   "file_extension": ".py",
   "mimetype": "text/x-python",
   "name": "python",
   "nbconvert_exporter": "python",
   "pygments_lexer": "ipython3",
   "version": "3.8.8"
  }
 },
 "nbformat": 4,
 "nbformat_minor": 5
}
